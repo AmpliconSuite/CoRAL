{
 "cells": [
  {
   "cell_type": "markdown",
   "id": "0007e3f8-0efb-4118-9c91-4bbb78c09b1a",
   "metadata": {},
   "source": [
    "# Evaluate CNV Calling\n",
    "\n",
    "This notebook produces various plots for comparing CNV calls and coverage between illumina and long-read (i.e., Nanopore) WGS data."
   ]
  },
  {
   "cell_type": "code",
   "execution_count": 2,
   "id": "f1383d61-ca69-4d0f-ad21-7eca8f1e5dd3",
   "metadata": {},
   "outputs": [],
   "source": [
    "import matplotlib.pyplot as plt\n",
    "import numpy as np\n",
    "import pandas as pd\n",
    "import seaborn as sns\n",
    "from scipy import stats"
   ]
  },
  {
   "cell_type": "markdown",
   "id": "c632f691-e794-41bd-8c33-b2bf8f58b96e",
   "metadata": {},
   "source": [
    "## Compare coverage"
   ]
  },
  {
   "cell_type": "code",
   "execution_count": 7,
   "id": "c3abed61-c344-4817-a992-769c88a19776",
   "metadata": {},
   "outputs": [],
   "source": [
    "MIN_COVERAGE = -2\n",
    "\n",
    "sample = \"MDA231\"\n",
    "\n",
    "nanopore_coverage = pd.read_csv(f\"../../data/{sample}/nanopore/nanopore_cnv_out/winnowmap_mapping.sorted.cnr\", sep='\\t')\n",
    "illumina_coverage = pd.read_csv(f\"../../data/{sample}/illumina/illumina_cnv_out/{sample}.sort.rmdup.cnr\", sep='\\t')\n",
    "\n",
    "nanopore_coverage.loc[nanopore_coverage['log2'] < MIN_COVERAGE, 'log2'] = MIN_COVERAGE\n",
    "illumina_coverage.loc[illumina_coverage['log2'] < MIN_COVERAGE, 'log2'] = MIN_COVERAGE\n"
   ]
  },
  {
   "cell_type": "code",
   "execution_count": 8,
   "id": "a1067f4b-ca9c-4f64-96e9-f9d81ade33a8",
   "metadata": {},
   "outputs": [
    {
     "data": {
      "text/html": [
       "<div>\n",
       "<style scoped>\n",
       "    .dataframe tbody tr th:only-of-type {\n",
       "        vertical-align: middle;\n",
       "    }\n",
       "\n",
       "    .dataframe tbody tr th {\n",
       "        vertical-align: top;\n",
       "    }\n",
       "\n",
       "    .dataframe thead th {\n",
       "        text-align: right;\n",
       "    }\n",
       "</style>\n",
       "<table border=\"1\" class=\"dataframe\">\n",
       "  <thead>\n",
       "    <tr style=\"text-align: right;\">\n",
       "      <th></th>\n",
       "      <th>chromosome</th>\n",
       "      <th>start</th>\n",
       "      <th>end</th>\n",
       "      <th>gene</th>\n",
       "      <th>depth</th>\n",
       "      <th>log2</th>\n",
       "      <th>weight</th>\n",
       "    </tr>\n",
       "  </thead>\n",
       "  <tbody>\n",
       "    <tr>\n",
       "      <th>0</th>\n",
       "      <td>chr1</td>\n",
       "      <td>11874</td>\n",
       "      <td>29370</td>\n",
       "      <td>DDX11L1,MIR6859-1,MIR6859-2,MIR6859-3,MIR6859-...</td>\n",
       "      <td>10.30870</td>\n",
       "      <td>-0.709153</td>\n",
       "      <td>0.802794</td>\n",
       "    </tr>\n",
       "    <tr>\n",
       "      <th>1</th>\n",
       "      <td>chr1</td>\n",
       "      <td>30366</td>\n",
       "      <td>30503</td>\n",
       "      <td>MIR1302-10,MIR1302-11,MIR1302-2,MIR1302-9</td>\n",
       "      <td>7.33577</td>\n",
       "      <td>-1.110340</td>\n",
       "      <td>0.000100</td>\n",
       "    </tr>\n",
       "    <tr>\n",
       "      <th>2</th>\n",
       "      <td>chr1</td>\n",
       "      <td>34611</td>\n",
       "      <td>36081</td>\n",
       "      <td>FAM138A,FAM138C,FAM138F</td>\n",
       "      <td>5.00000</td>\n",
       "      <td>-1.741010</td>\n",
       "      <td>0.319651</td>\n",
       "    </tr>\n",
       "    <tr>\n",
       "      <th>3</th>\n",
       "      <td>chr1</td>\n",
       "      <td>69091</td>\n",
       "      <td>70008</td>\n",
       "      <td>OR4F5</td>\n",
       "      <td>2.00000</td>\n",
       "      <td>-2.000000</td>\n",
       "      <td>0.138598</td>\n",
       "    </tr>\n",
       "    <tr>\n",
       "      <th>4</th>\n",
       "      <td>chr1</td>\n",
       "      <td>134773</td>\n",
       "      <td>140566</td>\n",
       "      <td>LOC729737</td>\n",
       "      <td>8.51631</td>\n",
       "      <td>-0.963524</td>\n",
       "      <td>0.657281</td>\n",
       "    </tr>\n",
       "  </tbody>\n",
       "</table>\n",
       "</div>"
      ],
      "text/plain": [
       "  chromosome   start     end  \\\n",
       "0       chr1   11874   29370   \n",
       "1       chr1   30366   30503   \n",
       "2       chr1   34611   36081   \n",
       "3       chr1   69091   70008   \n",
       "4       chr1  134773  140566   \n",
       "\n",
       "                                                gene     depth      log2  \\\n",
       "0  DDX11L1,MIR6859-1,MIR6859-2,MIR6859-3,MIR6859-...  10.30870 -0.709153   \n",
       "1          MIR1302-10,MIR1302-11,MIR1302-2,MIR1302-9   7.33577 -1.110340   \n",
       "2                            FAM138A,FAM138C,FAM138F   5.00000 -1.741010   \n",
       "3                                              OR4F5   2.00000 -2.000000   \n",
       "4                                          LOC729737   8.51631 -0.963524   \n",
       "\n",
       "     weight  \n",
       "0  0.802794  \n",
       "1  0.000100  \n",
       "2  0.319651  \n",
       "3  0.138598  \n",
       "4  0.657281  "
      ]
     },
     "execution_count": 8,
     "metadata": {},
     "output_type": "execute_result"
    }
   ],
   "source": [
    "nanopore_coverage.head(5)"
   ]
  },
  {
   "cell_type": "code",
   "execution_count": 9,
   "id": "2dbb173c-3245-4119-84ab-4b6361c7419d",
   "metadata": {},
   "outputs": [
    {
     "name": "stderr",
     "output_type": "stream",
     "text": [
      "/Users/mgjones/miniconda3/envs/long-read-sv/lib/python3.9/site-packages/seaborn/_decorators.py:36: FutureWarning: Pass the following variables as keyword args: x, y. From version 0.12, the only valid positional argument will be `data`, and passing other arguments without an explicit keyword will result in an error or misinterpretation.\n",
      "  warnings.warn(\n"
     ]
    },
    {
     "data": {
      "image/png": "[encoded data removed]",
      "text/plain": [
       "<Figure size 432x288 with 1 Axes>"
      ]
     },
     "metadata": {
      "needs_background": "light"
     },
     "output_type": "display_data"
    }
   ],
   "source": [
    "corr = stats.pearsonr(nanopore_coverage['log2'].values, illumina_coverage['log2'].values)[0]\n",
    "\n",
    "m, b = np.polyfit(nanopore_coverage['log2'].values, illumina_coverage['log2'].values, 1)\n",
    "\n",
    "sns.scatterplot(nanopore_coverage['log2'].values, illumina_coverage['log2'].values)\n",
    "plt.plot(nanopore_coverage['log2'].values, m*nanopore_coverage['log2'].values+b, color='red')\n",
    "plt.xlabel(\"Nanopore coverage (log2)\")\n",
    "plt.ylabel(\"Illumina coverage (log2)\")\n",
    "plt.title(f\"{sample} (Pearson: {round(corr, 2)}; Regression coef: {round(m, 2)})\")\n",
    "plt.savefig(f\"../../data/{sample}/coverage_comparison.png\", dpi = 300)\n",
    "plt.show()"
   ]
  },
  {
   "cell_type": "code",
   "execution_count": null,
   "id": "90cbb66f-4b26-46b9-be3d-cd8e107a1b57",
   "metadata": {},
   "outputs": [],
   "source": []
  }
 ],
 "metadata": {
  "kernelspec": {
   "display_name": "long-read-sv",
   "language": "python",
   "name": "long-read-sv"
  },
  "language_info": {
   "codemirror_mode": {
    "name": "ipython",
    "version": 3
   },
   "file_extension": ".py",
   "mimetype": "text/x-python",
   "name": "python",
   "nbconvert_exporter": "python",
   "pygments_lexer": "ipython3",
   "version": "3.9.12"
  }
 },
 "nbformat": 4,
 "nbformat_minor": 5
}
