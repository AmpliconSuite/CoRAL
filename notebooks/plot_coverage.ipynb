{
 "cells": [
  {
   "cell_type": "markdown",
   "id": "0007e3f8-0efb-4118-9c91-4bbb78c09b1a",
   "metadata": {},
   "source": [
    "# Evaluate CNV Calling\n",
    "\n",
    "This notebook produces various plots for comparing CNV calls and coverage between illumina and long-read (i.e., Nanopore) WGS data."
   ]
  },
  {
   "cell_type": "code",
   "execution_count": 2,
   "id": "f1383d61-ca69-4d0f-ad21-7eca8f1e5dd3",
   "metadata": {},
   "outputs": [],
   "source": [
    "import matplotlib.pyplot as plt\n",
    "import pandas as pd\n",
    "import seaborn as sns\n",
    "from scipy import stats"
   ]
  },
  {
   "cell_type": "markdown",
   "id": "c632f691-e794-41bd-8c33-b2bf8f58b96e",
   "metadata": {},
   "source": [
    "## Compare coverage"
   ]
  },
  {
   "cell_type": "code",
   "execution_count": 11,
   "id": "c3abed61-c344-4817-a992-769c88a19776",
   "metadata": {},
   "outputs": [],
   "source": [
    "MIN_COVERAGE = -100\n",
    "\n",
    "nanopore_coverage = pd.read_csv(\"../../data/COLO320-DM/nanopore/nanopore_cnv_out/winnowmap_mapping.sorted.cnr\", sep='\\t')\n",
    "illumina_coverage = pd.read_csv(\"../../data/COLO320-DM/illumina/illumina_cnv_out/COLO320DM.sort.rmdup.cnr\", sep='\\t')\n",
    "\n",
    "nanopore_coverage.loc[nanopore_coverage['log2'] < MIN_COVERAGE, 'log2'] = MIN_COVERAGE\n",
    "illumina_coverage.loc[illumina_coverage['log2'] < MIN_COVERAGE, 'log2'] = MIN_COVERAGE\n"
   ]
  },
  {
   "cell_type": "code",
   "execution_count": 12,
   "id": "a1067f4b-ca9c-4f64-96e9-f9d81ade33a8",
   "metadata": {},
   "outputs": [
    {
     "data": {
      "text/html": [
       "<div>\n",
       "<style scoped>\n",
       "    .dataframe tbody tr th:only-of-type {\n",
       "        vertical-align: middle;\n",
       "    }\n",
       "\n",
       "    .dataframe tbody tr th {\n",
       "        vertical-align: top;\n",
       "    }\n",
       "\n",
       "    .dataframe thead th {\n",
       "        text-align: right;\n",
       "    }\n",
       "</style>\n",
       "<table border=\"1\" class=\"dataframe\">\n",
       "  <thead>\n",
       "    <tr style=\"text-align: right;\">\n",
       "      <th></th>\n",
       "      <th>chromosome</th>\n",
       "      <th>start</th>\n",
       "      <th>end</th>\n",
       "      <th>gene</th>\n",
       "      <th>depth</th>\n",
       "      <th>log2</th>\n",
       "      <th>weight</th>\n",
       "    </tr>\n",
       "  </thead>\n",
       "  <tbody>\n",
       "    <tr>\n",
       "      <th>0</th>\n",
       "      <td>chr1</td>\n",
       "      <td>11874</td>\n",
       "      <td>29370</td>\n",
       "      <td>DDX11L1,MIR6859-1,MIR6859-2,MIR6859-3,MIR6859-...</td>\n",
       "      <td>0.000000</td>\n",
       "      <td>-18.91860</td>\n",
       "      <td>0.0001</td>\n",
       "    </tr>\n",
       "    <tr>\n",
       "      <th>1</th>\n",
       "      <td>chr1</td>\n",
       "      <td>30366</td>\n",
       "      <td>30503</td>\n",
       "      <td>MIR1302-10,MIR1302-11,MIR1302-2,MIR1302-9</td>\n",
       "      <td>0.000000</td>\n",
       "      <td>-19.16240</td>\n",
       "      <td>0.0001</td>\n",
       "    </tr>\n",
       "    <tr>\n",
       "      <th>2</th>\n",
       "      <td>chr1</td>\n",
       "      <td>34611</td>\n",
       "      <td>36081</td>\n",
       "      <td>FAM138A,FAM138C,FAM138F</td>\n",
       "      <td>0.000000</td>\n",
       "      <td>-18.89910</td>\n",
       "      <td>0.0001</td>\n",
       "    </tr>\n",
       "    <tr>\n",
       "      <th>3</th>\n",
       "      <td>chr1</td>\n",
       "      <td>69091</td>\n",
       "      <td>70008</td>\n",
       "      <td>OR4F5</td>\n",
       "      <td>0.000000</td>\n",
       "      <td>-19.31650</td>\n",
       "      <td>0.0001</td>\n",
       "    </tr>\n",
       "    <tr>\n",
       "      <th>4</th>\n",
       "      <td>chr1</td>\n",
       "      <td>134773</td>\n",
       "      <td>140566</td>\n",
       "      <td>LOC729737</td>\n",
       "      <td>0.088037</td>\n",
       "      <td>-1.85084</td>\n",
       "      <td>0.0001</td>\n",
       "    </tr>\n",
       "  </tbody>\n",
       "</table>\n",
       "</div>"
      ],
      "text/plain": [
       "  chromosome   start     end  \\\n",
       "0       chr1   11874   29370   \n",
       "1       chr1   30366   30503   \n",
       "2       chr1   34611   36081   \n",
       "3       chr1   69091   70008   \n",
       "4       chr1  134773  140566   \n",
       "\n",
       "                                                gene     depth      log2  \\\n",
       "0  DDX11L1,MIR6859-1,MIR6859-2,MIR6859-3,MIR6859-...  0.000000 -18.91860   \n",
       "1          MIR1302-10,MIR1302-11,MIR1302-2,MIR1302-9  0.000000 -19.16240   \n",
       "2                            FAM138A,FAM138C,FAM138F  0.000000 -18.89910   \n",
       "3                                              OR4F5  0.000000 -19.31650   \n",
       "4                                          LOC729737  0.088037  -1.85084   \n",
       "\n",
       "   weight  \n",
       "0  0.0001  \n",
       "1  0.0001  \n",
       "2  0.0001  \n",
       "3  0.0001  \n",
       "4  0.0001  "
      ]
     },
     "execution_count": 12,
     "metadata": {},
     "output_type": "execute_result"
    }
   ],
   "source": [
    "nanopore_coverage.head(5)"
   ]
  },
  {
   "cell_type": "code",
   "execution_count": 13,
   "id": "2dbb173c-3245-4119-84ab-4b6361c7419d",
   "metadata": {},
   "outputs": [
    {
     "name": "stderr",
     "output_type": "stream",
     "text": [
      "/Users/mgjones/miniconda3/envs/long-read-sv/lib/python3.9/site-packages/seaborn/_decorators.py:36: FutureWarning: Pass the following variables as keyword args: x, y. From version 0.12, the only valid positional argument will be `data`, and passing other arguments without an explicit keyword will result in an error or misinterpretation.\n",
      "  warnings.warn(\n"
     ]
    },
    {
     "data": {
      "image/png": "[encoded data removed]",
      "text/plain": [
       "<Figure size 432x288 with 1 Axes>"
      ]
     },
     "metadata": {
      "needs_background": "light"
     },
     "output_type": "display_data"
    }
   ],
   "source": [
    "corr = stats.pearsonr(nanopore_coverage['log2'].values, illumina_coverage['log2'].values)[0]\n",
    "\n",
    "sns.scatterplot(nanopore_coverage['log2'].values, illumina_coverage['log2'].values)\n",
    "plt.xlabel(\"Nanopore coverage (log2)\")\n",
    "plt.ylabel(\"Illumina coverage (log2)\")\n",
    "plt.title(f\"COLO320-DM (Pearson: {round(corr, 2)})\")\n",
    "plt.show()"
   ]
  }
 ],
 "metadata": {
  "kernelspec": {
   "display_name": "long-read-sv",
   "language": "python",
   "name": "long-read-sv"
  },
  "language_info": {
   "codemirror_mode": {
    "name": "ipython",
    "version": 3
   },
   "file_extension": ".py",
   "mimetype": "text/x-python",
   "name": "python",
   "nbconvert_exporter": "python",
   "pygments_lexer": "ipython3",
   "version": "3.9.12"
  }
 },
 "nbformat": 4,
 "nbformat_minor": 5
}
